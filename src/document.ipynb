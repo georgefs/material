{
 "cells": [
  {
   "cell_type": "markdown",
   "metadata": {},
   "source": [
    "使用說明\n",
    "---"
   ]
  },
  {
   "cell_type": "code",
   "execution_count": 4,
   "metadata": {},
   "outputs": [
    {
     "name": "stdout",
     "output_type": "stream",
     "text": [
      "The autoreload extension is already loaded. To reload it, use:\n",
      "  %reload_ext autoreload\n"
     ]
    }
   ],
   "source": [
    "%load_ext autoreload\n",
    "%autoreload 2"
   ]
  },
  {
   "cell_type": "markdown",
   "metadata": {},
   "source": [
    "### 新增新影片"
   ]
  },
  {
   "cell_type": "code",
   "execution_count": null,
   "metadata": {},
   "outputs": [],
   "source": [
    "from material import core\n",
    "core.create_video_from_url('video name', 'http://35.229.199.4/5831.mp4')"
   ]
  },
  {
   "cell_type": "markdown",
   "metadata": {},
   "source": [
    "### m3u8 操作"
   ]
  },
  {
   "cell_type": "code",
   "execution_count": 1,
   "metadata": {},
   "outputs": [],
   "source": [
    "m3u8_context = '''\n",
    "EXTM3U\n",
    "#EXT-X-VERSION:3\n",
    "#EXT-X-TARGETDURATION:10\n",
    "#EXTINF:10.000000,\n",
    "video0.ts\n",
    "#EXTINF:6.560000,\n",
    "video1.ts\n",
    "#EXTINF:10.000000,\n",
    "video2.ts\n",
    "#EXTINF:3.840000,\n",
    "video3.ts\n",
    "#EXTINF:9.080000,\n",
    "video4.ts\n",
    "#EXT-X-ENDLIST\n",
    "'''.strip()"
   ]
  },
  {
   "cell_type": "code",
   "execution_count": 2,
   "metadata": {},
   "outputs": [],
   "source": [
    "from material import hls\n",
    "m3u8 = hls.M3U8.from_context(m3u8_context)"
   ]
  },
  {
   "cell_type": "markdown",
   "metadata": {},
   "source": [
    "### 切片"
   ]
  },
  {
   "cell_type": "code",
   "execution_count": 8,
   "metadata": {},
   "outputs": [
    {
     "name": "stdout",
     "output_type": "stream",
     "text": [
      "EXTM3U\n",
      "#EXT-X-VERSION:3\n",
      "#EXT-X-TARGETDURATION:10\n",
      "#EXTINF:10.0,\n",
      "video0.ts\n",
      "#EXTINF:6.56,\n",
      "video1.ts\n",
      "#EXTINF:10.0,\n",
      "video2.ts\n",
      "#EXTINF:3.84,\n",
      "video3.ts\n",
      "#EXTINF:9.08,\n",
      "video4.ts\n",
      "#EXT-X-ENDLIST\n"
     ]
    }
   ],
   "source": [
    "print(m3u8.render())"
   ]
  },
  {
   "cell_type": "code",
   "execution_count": 9,
   "metadata": {},
   "outputs": [],
   "source": [
    "m3u8_cell = m3u8.slince(11, 20) # cut 00:11 ~> 00:20"
   ]
  },
  {
   "cell_type": "code",
   "execution_count": 7,
   "metadata": {},
   "outputs": [
    {
     "name": "stdout",
     "output_type": "stream",
     "text": [
      "EXTM3U\n",
      "#EXT-X-VERSION:3\n",
      "#EXT-X-TARGETDURATION:10\n",
      "#EXTINF:6.56,\n",
      "video1.ts\n",
      "#EXTINF:10.0,\n",
      "video2.ts\n",
      "#EXT-X-ENDLIST\n"
     ]
    }
   ],
   "source": [
    "print(m3u8_cell.render())"
   ]
  },
  {
   "cell_type": "markdown",
   "metadata": {},
   "source": [
    "### 正反轉"
   ]
  },
  {
   "cell_type": "code",
   "execution_count": 19,
   "metadata": {},
   "outputs": [
    {
     "name": "stdout",
     "output_type": "stream",
     "text": [
      "{\"headers\": \"EXTM3U\\n#EXT-X-VERSION:3\\n#EXT-X-TARGETDURATION:10\\n\", \"scenes\": [{\"title\": \"\", \"duration\": 10.0, \"file_path\": \"video0.ts\", \"start\": 0, \"idx\": 0}, {\"title\": \"\", \"duration\": 6.56, \"file_path\": \"video1.ts\", \"start\": 10.0, \"idx\": 1}, {\"title\": \"\", \"duration\": 10.0, \"file_path\": \"video2.ts\", \"start\": 16.56, \"idx\": 2}, {\"title\": \"\", \"duration\": 3.84, \"file_path\": \"video3.ts\", \"start\": 26.56, \"idx\": 3}, {\"title\": \"\", \"duration\": 9.08, \"file_path\": \"video4.ts\", \"start\": 30.4, \"idx\": 4}], \"base_url\": \"\"}\n"
     ]
    }
   ],
   "source": [
    "data = m3u8.dump_data()\n",
    "print(data)"
   ]
  },
  {
   "cell_type": "code",
   "execution_count": 24,
   "metadata": {},
   "outputs": [
    {
     "data": {
      "text/plain": [
       "<material.hls.M3U8 at 0x108c94e80>"
      ]
     },
     "execution_count": 24,
     "metadata": {},
     "output_type": "execute_result"
    }
   ],
   "source": [
    "new_m3u8 = hls.M3U8.from_data(data)\n",
    "new_m3u8"
   ]
  },
  {
   "cell_type": "code",
   "execution_count": 25,
   "metadata": {},
   "outputs": [
    {
     "data": {
      "text/plain": [
       "'{\"headers\": \"EXTM3U\\\\n#EXT-X-VERSION:3\\\\n#EXT-X-TARGETDURATION:10\\\\n\", \"scenes\": [{\"title\": \"\", \"duration\": 10.0, \"file_path\": \"video0.ts\", \"start\": 0, \"idx\": 0}, {\"title\": \"\", \"duration\": 6.56, \"file_path\": \"video1.ts\", \"start\": 10.0, \"idx\": 1}, {\"title\": \"\", \"duration\": 10.0, \"file_path\": \"video2.ts\", \"start\": 16.56, \"idx\": 2}, {\"title\": \"\", \"duration\": 3.84, \"file_path\": \"video3.ts\", \"start\": 26.56, \"idx\": 3}, {\"title\": \"\", \"duration\": 9.08, \"file_path\": \"video4.ts\", \"start\": 30.4, \"idx\": 4}], \"base_url\": \"\"}'"
      ]
     },
     "execution_count": 25,
     "metadata": {},
     "output_type": "execute_result"
    }
   ],
   "source": [
    "new_m3u8.dump_data()"
   ]
  },
  {
   "cell_type": "code",
   "execution_count": null,
   "metadata": {},
   "outputs": [],
   "source": []
  }
 ],
 "metadata": {
  "kernelspec": {
   "display_name": "Django Shell-Plus",
   "language": "python",
   "name": "django_extensions"
  },
  "language_info": {
   "codemirror_mode": {
    "name": "ipython",
    "version": 3
   },
   "file_extension": ".py",
   "mimetype": "text/x-python",
   "name": "python",
   "nbconvert_exporter": "python",
   "pygments_lexer": "ipython3",
   "version": "3.7.0"
  }
 },
 "nbformat": 4,
 "nbformat_minor": 2
}
