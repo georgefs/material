{
 "cells": [
  {
   "cell_type": "markdown",
   "metadata": {},
   "source": [
    "J1 事件導入\n",
    "---"
   ]
  },
  {
   "cell_type": "code",
   "execution_count": 1,
   "metadata": {},
   "outputs": [],
   "source": [
    "%load_ext autoreload\n",
    "%autoreload 2"
   ]
  },
  {
   "cell_type": "code",
   "execution_count": 2,
   "metadata": {},
   "outputs": [],
   "source": [
    "tag_infos = '''\n",
    "射门, シュート\n",
    "射门被扑, キャッチ、パンチング\n",
    "黄牌, イエローカード\n",
    "进球, ゴール、ゴールラインを割ってしまう\n",
    "角球, CK\n",
    "任意球, FK\n",
    "越位, オフサイド\n",
    "红牌, レッドカード\n",
    "射门被挡, ブロック\n",
    "击中门框, ポストに嫌われてしまう\n",
    "争议球, ルーズボール\n",
    "射偏, 枠を外してしまう\n",
    "'''.strip()"
   ]
  },
  {
   "cell_type": "code",
   "execution_count": 3,
   "metadata": {},
   "outputs": [],
   "source": [
    "from material.models import Tag, VideoScene\n",
    "\n",
    "tag_infos = [tag.split(',') for tag in tag_infos.split('\\n')]\n",
    "for name, keyword in tag_infos:\n",
    "    name = name.strip()\n",
    "    keyword = keyword.strip()\n",
    "    \n",
    "    tag, created = Tag.objects.get_or_create(name=name)\n",
    "    videos = VideoScene.objects.filter(text__contains=keyword)\n",
    "    for video in videos:\n",
    "        video.tags.add(tag)"
   ]
  }
 ],
 "metadata": {
  "kernelspec": {
   "display_name": "Django Shell-Plus",
   "language": "python",
   "name": "django_extensions"
  },
  "language_info": {
   "codemirror_mode": {
    "name": "ipython",
    "version": 3
   },
   "file_extension": ".py",
   "mimetype": "text/x-python",
   "name": "python",
   "nbconvert_exporter": "python",
   "pygments_lexer": "ipython3",
   "version": "3.7.0"
  }
 },
 "nbformat": 4,
 "nbformat_minor": 2
}
